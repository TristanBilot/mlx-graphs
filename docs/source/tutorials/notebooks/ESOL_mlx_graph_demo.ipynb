{
 "cells": [
  {
   "cell_type": "markdown",
   "id": "1de1dc48-49a2-4931-9703-1afd3eda656c",
   "metadata": {},
   "source": [
    "# install rdkit via pip"
   ]
  },
  {
   "cell_type": "markdown",
   "id": "76671162-76bf-46fe-938c-73d8db74ccd7",
   "metadata": {},
   "source": [
    "!pip install rdkit"
   ]
  },
  {
   "cell_type": "markdown",
   "id": "ec95ed87-8dcf-4b6a-84cd-82a0a6916ee3",
   "metadata": {},
   "source": [
    "# imports"
   ]
  },
  {
   "cell_type": "code",
   "execution_count": null,
   "id": "9e45ecbc-c976-4fe4-a201-1f21ea3cebd0",
   "metadata": {},
   "outputs": [],
   "source": [
    "import os\n",
    "\n",
    "import mlx.core as mx\n",
    "import scipy as sp\n",
    "import numpy as np\n",
    "import pandas as pd\n",
    "from mlx_graphs.data import GraphData\n",
    "from mlx_graphs.datasets.dataset import Dataset\n",
    "from mlx_graphs.datasets.utils import download\n",
    "from mlx_graphs.utils.transformations import to_sparse_adjacency_matrix\n",
    "from typing import Tuple\n",
    "from typing import Optional\n",
    "\n",
    "from rdkit import Chem\n",
    "from rdkit.Chem import Lipinski\n",
    "from rdkit.Chem import rdMolDescriptors\n"
   ]
  },
  {
   "cell_type": "markdown",
   "id": "75f3fdb5-7740-4ffa-bf76-4f0c8434ebb6",
   "metadata": {},
   "source": [
    "# get the ESOL source file"
   ]
  },
  {
   "cell_type": "code",
   "execution_count": null,
   "id": "b86dbc3e-26f1-4d50-97e8-185d3a8f22b5",
   "metadata": {},
   "outputs": [],
   "source": [
    "download('https://deepchemdata.s3-us-west-1.amazonaws.com/datasets/delaney-processed.csv', path=\"ESOL.csv\")"
   ]
  },
  {
   "cell_type": "markdown",
   "id": "6ba96b29-05e9-4b0c-bb4d-cdab80057e72",
   "metadata": {},
   "source": [
    "# retreive SMILES and target LogS columns only"
   ]
  },
  {
   "cell_type": "code",
   "execution_count": null,
   "id": "d0f37b3c-8647-4c99-8eea-360b38a5b29c",
   "metadata": {},
   "outputs": [],
   "source": [
    "data = pd.read_csv('ESOL.csv')\n",
    "data = data[['smiles','measured log solubility in mols per litre']]\n",
    "data.columns = ['Smiles','LogS']\n",
    "data.head()"
   ]
  },
  {
   "cell_type": "code",
   "execution_count": null,
   "id": "33b62c43-9feb-4bf1-aa28-ec55e85a0748",
   "metadata": {},
   "outputs": [],
   "source": [
    "# \n",
    "\n"
   ]
  },
  {
   "cell_type": "code",
   "execution_count": null,
   "id": "e1c455b8-e19a-494e-8872-da159af8fe1e",
   "metadata": {},
   "outputs": [],
   "source": [
    "\n",
    "# my c++ official RDkit code to get Atom basic features \n",
    "def _atomFeatures(atom: Chem.Atom,\n",
    "                 ) -> np.array:\n",
    "    return rdMolDescriptors.GetAtomFeatures(atom.GetOwningMol(), atom.GetIdx())\n",
    "\n",
    "# AdjacencyMatrix extractoin and formating\n",
    "def _compute_adjacency(\n",
    "    molecule: Chem.Mol,\n",
    "    dtype: np.dtype = np.int32,\n",
    ") -> Tuple[np.ndarray, np.ndarray]:\n",
    "    'Computes adjacency matrix from an RDKit molecule object.'\n",
    "\n",
    "    adjacency = Chem.GetAdjacencyMatrix(molecule)\n",
    "\n",
    "    return adjacency.astype(dtype)\n",
    "\n",
    "# Get Edge_features\n",
    "def generate_bond_features(\n",
    "    mol: Chem.Mol)-> Tuple[np.ndarray, np.ndarray]:\n",
    "    # Dictionaries for mapping bond types and stereochemistry to integers\n",
    "    bond_type_dict = {'SINGLE': 1, 'DOUBLE': 2, 'TRIPLE': 3, 'AROMATIC': 4}\n",
    "    bond_stereo_dict = {'STEREONONE': 0,'STEREOANY': 1, 'STEREOE': 2, 'STEREOZ': 3}\n",
    "    \n",
    "    # Calculate rotatable bonds\n",
    "    rotbonds = Lipinski._RotatableBonds(mol)\n",
    "    \n",
    "    # Initialize a list to store bond features\n",
    "    bond_features = []\n",
    "    \n",
    "    for bond in mol.GetBonds():\n",
    "        # Get the owning molecule (not necessary if `mol` is already given)\n",
    "        mol = bond.GetOwningMol()\n",
    "        \n",
    "        # Get sorted atom indices for the bond\n",
    "        atom_indices = tuple(sorted([bond.GetBeginAtomIdx(), bond.GetEndAtomIdx()]))\n",
    "        \n",
    "        # Determine if the bond is rotatable\n",
    "        is_rotatable = atom_indices in rotbonds\n",
    "        \n",
    "        # Get the bond's features\n",
    "        bond_stereo_feature = bond_stereo_dict[bond.GetStereo().name]\n",
    "        bond_type_feature = bond_type_dict[bond.GetBondType().name]\n",
    "        is_conjugated = bond.GetIsConjugated()\n",
    "        \n",
    "        # Append the features as a tuple to the bond_features list\n",
    "        bond_features.append((bond_stereo_feature, bond_type_feature, is_conjugated, is_rotatable))\n",
    "    \n",
    "    return bond_features"
   ]
  },
  {
   "cell_type": "code",
   "execution_count": null,
   "id": "9029a597-5f8c-42aa-9120-cfd4f46d7d85",
   "metadata": {},
   "outputs": [],
   "source": [
    "# generate the dataset"
   ]
  },
  {
   "cell_type": "code",
   "execution_count": null,
   "id": "a55cd46b-08c8-4682-acd4-283ae37d52f3",
   "metadata": {},
   "outputs": [],
   "source": [
    "dataset = []\n",
    "for i,row in data.iterrows():\n",
    "    try:\n",
    "        # Get an RDkit Molecule object from Smiles\n",
    "        mol = Chem.MolFromSmiles(row.Smiles.strip())\n",
    "        # Get the edge_indexes (we will overwrite the edge_features)\n",
    "        edge_index, edge_features = to_sparse_adjacency_matrix(mx.array(_compute_adjacency(mol)))\n",
    "        # Get Node features\n",
    "        atf = np.zeros((mol.GetNumAtoms(),49))\n",
    "        for i, atom in enumerate(mol.GetAtoms()):\n",
    "            atf[i,:] = _atomFeatures(atom)\n",
    "        node_features  = mx.array(atf)\n",
    "        # Get Edge features\n",
    "        edge_features = mx.array(generate_bond_features(mol))\n",
    "        # Get the target : \"LogS\"\n",
    "        label =  mx.array(row.LogS)\n",
    "        # append the list of GraphData objects\n",
    "        dataset.append(\n",
    "            GraphData(\n",
    "                \n",
    "                edge_index=edge_index,\n",
    "                node_features=node_features,\n",
    "                edge_features=edge_features,\n",
    "                node_labels=label, \n",
    "                        )\n",
    "                )\n",
    "    except:\n",
    "        # the \"C\" is a single atom molecule so it is expected to be an exception in this process!\n",
    "        print(row)"
   ]
  },
  {
   "cell_type": "code",
   "execution_count": null,
   "id": "ab264ba8-0cee-4dbd-b9b5-76334438d4ff",
   "metadata": {},
   "outputs": [],
   "source": [
    "dataset[0]"
   ]
  },
  {
   "cell_type": "code",
   "execution_count": null,
   "id": "958496b8-594a-4646-9d22-5b4960366930",
   "metadata": {},
   "outputs": [],
   "source": [
    "from mlx_graphs.loaders import Dataloader\n",
    "\n",
    "train_dataset = dataset[:150]\n",
    "test_dataset = dataset[150:]\n",
    "\n",
    "\n",
    "BATCH_SIZE = 64\n",
    "\n",
    "train_loader = Dataloader(train_dataset, batch_size=BATCH_SIZE, shuffle=False)\n",
    "test_loader = Dataloader(test_dataset, batch_size=BATCH_SIZE, shuffle=False)\n",
    "\n",
    "for batch in train_loader:\n",
    "    print(f\"\\nGraph batch of size {len(batch)}\")\n",
    "    print(batch)\n",
    "    print(batch.batch_indices)"
   ]
  },
  {
   "cell_type": "code",
   "execution_count": null,
   "id": "cd533e78-aa14-459c-9839-411b06bc1791",
   "metadata": {},
   "outputs": [],
   "source": [
    "# Some useful properties\n",
    "print(\"Dataset attributes\")\n",
    "print(\"-\" * 20)\n",
    "print(f\"Number of graphs: {len(dataset)}\")\n",
    "print(f\"Number of node features: {dataset.num_node_features}\")\n",
    "print(f\"Number of edge features: {dataset.num_edge_features}\")\n",
    "print(f\"Number of graph features: {dataset.num_graph_features}\")\n",
    "print(f\"Number of graph classes to predict: {dataset.num_graph_classes}\\n\")\n",
    "\n",
    "# Statistics of the dataset\n",
    "stats = defaultdict(list)\n",
    "for g in dataset:\n",
    "    stats[\"Mean node degree\"].append(g.num_edges / g.num_nodes)\n",
    "    stats[\"Mean num of nodes\"].append(g.num_nodes)\n",
    "    stats[\"Mean num of edges\"].append(g.num_edges)\n",
    "\n",
    "print(\"Dataset stats\")\n",
    "print(\"-\" * 20)\n",
    "for k, v in stats.items():\n",
    "    mean = mx.mean(mx.array(v)).item()\n",
    "    print(f\"{k}: {mean:.2f}\")"
   ]
  },
  {
   "cell_type": "code",
   "execution_count": null,
   "id": "272b8095-3066-4a19-a4fe-4232d8dd4661",
   "metadata": {},
   "outputs": [],
   "source": []
  }
 ],
 "metadata": {
  "kernelspec": {
   "display_name": "Python 3 (ipykernel)",
   "language": "python",
   "name": "python3"
  },
  "language_info": {
   "codemirror_mode": {
    "name": "ipython",
    "version": 3
   },
   "file_extension": ".py",
   "mimetype": "text/x-python",
   "name": "python",
   "nbconvert_exporter": "python",
   "pygments_lexer": "ipython3",
   "version": "3.11.8"
  }
 },
 "nbformat": 4,
 "nbformat_minor": 5
}

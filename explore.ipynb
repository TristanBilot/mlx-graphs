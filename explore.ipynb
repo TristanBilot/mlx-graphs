{
 "cells": [
  {
   "cell_type": "code",
   "execution_count": 1,
   "metadata": {},
   "outputs": [],
   "source": [
    "import mlx.core as mx"
   ]
  },
  {
   "cell_type": "code",
   "execution_count": 2,
   "metadata": {},
   "outputs": [
    {
     "ename": "AttributeError",
     "evalue": "'str' object has no attribute 'key'",
     "output_type": "error",
     "traceback": [
      "\u001b[0;31m---------------------------------------------------------------------------\u001b[0m",
      "\u001b[0;31mAttributeError\u001b[0m                            Traceback (most recent call last)",
      "Cell \u001b[0;32mIn[2], line 12\u001b[0m\n\u001b[1;32m     10\u001b[0m g1 \u001b[38;5;241m=\u001b[39m GraphData(node_features\u001b[38;5;241m=\u001b[39mnode_features1, edge_index\u001b[38;5;241m=\u001b[39medge_index1)\n\u001b[1;32m     11\u001b[0m g2 \u001b[38;5;241m=\u001b[39m GraphData(node_features\u001b[38;5;241m=\u001b[39mnode_features2, edge_index\u001b[38;5;241m=\u001b[39medge_index2)\n\u001b[0;32m---> 12\u001b[0m batch \u001b[38;5;241m=\u001b[39m \u001b[43mBatch\u001b[49m\u001b[38;5;241;43m.\u001b[39;49m\u001b[43mfrom_graph_list\u001b[49m\u001b[43m(\u001b[49m\u001b[43m[\u001b[49m\u001b[43mg1\u001b[49m\u001b[43m,\u001b[49m\u001b[43mg2\u001b[49m\u001b[43m]\u001b[49m\u001b[43m)\u001b[49m\n",
      "File \u001b[0;32m~/Repositories/personal/Thesis/gnn/mlx-graphs/mlx_graphs/data/batch.py:20\u001b[0m, in \u001b[0;36mBatch.from_graph_list\u001b[0;34m(cls, graphs)\u001b[0m\n\u001b[1;32m     18\u001b[0m \u001b[38;5;28;01mfor\u001b[39;00m graph \u001b[38;5;129;01min\u001b[39;00m graphs:\n\u001b[1;32m     19\u001b[0m     \u001b[38;5;28;01mfor\u001b[39;00m \u001b[38;5;28mdict\u001b[39m \u001b[38;5;129;01min\u001b[39;00m graph\u001b[38;5;241m.\u001b[39mto_dict():\n\u001b[0;32m---> 20\u001b[0m         key_to_stores[\u001b[38;5;28;43mdict\u001b[39;49m\u001b[38;5;241;43m.\u001b[39;49m\u001b[43mkey\u001b[49m]\u001b[38;5;241m.\u001b[39mappend(\u001b[38;5;28mdict\u001b[39m)\n",
      "\u001b[0;31mAttributeError\u001b[0m: 'str' object has no attribute 'key'"
     ]
    }
   ],
   "source": [
    "from mlx_graphs.data.batch import Batch\n",
    "from mlx_graphs.data.data import GraphData\n",
    "\n",
    "node_features1 = mx.random.randint(0,1,(5,10)) \n",
    "edge_index1 = mx.random.randint(0,5,(2,10))\n",
    "\n",
    "node_features2 = mx.random.randint(0,1,(10,10)) \n",
    "edge_index2 = mx.random.randint(0,10,(2,10))\n",
    "\n",
    "g1 = GraphData(node_features=node_features1, edge_index=edge_index1)\n",
    "g2 = GraphData(node_features=node_features2, edge_index=edge_index2)\n",
    "batch = Batch.from_graph_list([g1,g2])"
   ]
  },
  {
   "cell_type": "code",
   "execution_count": 1,
   "metadata": {},
   "outputs": [],
   "source": [
    "import mlx.core as mx\n",
    "from mlx_graphs.data.data import GraphData\n",
    "from mlx_graphs.data.batch import Batch\n",
    "\n",
    "node_features1 = mx.array([[1,1,1,1],\n",
    "            [1,1,1,1],\n",
    "            [1,0,1,1],\n",
    "            [0,0,1,1]])\n",
    "edge_index1 = mx.array([[0,1,1,2,3],\n",
    "                        [1,0,2,3,1]])\n",
    "node_features2 = mx.array([[1,1,0,1],\n",
    "            [1,0,1,1],\n",
    "            [1,0,0,1]])\n",
    "edge_index2 = mx.array([[0,1,2,3,1],\n",
    "                        [1,0,1,2,2]])\n",
    "\n",
    "expected_global_node_features = mx.array([[1,1,1,1],\n",
    "                                        [1,1,1,1],\n",
    "                                        [1,0,1,1],\n",
    "                                        [0,0,1,1],\n",
    "                                        [1,1,0,1],\n",
    "                                        [1,0,1,1],\n",
    "                                        [1,0,0,1]])\n",
    "\n",
    "expected_global_edge_index = mx.array([[0,1,1,2,3,4,5,6,7,5],\n",
    "                                        [1,0,2,3,1,5,6,5,6,6]])\n",
    "\n",
    "g1 = GraphData(node_features=node_features1, edge_index=edge_index1)\n",
    "g2 = GraphData(node_features=node_features2, edge_index=edge_index2)\n"
   ]
  },
  {
   "cell_type": "code",
   "execution_count": 2,
   "metadata": {},
   "outputs": [],
   "source": [
    "batch = Batch.from_graph_list([g1,g2])"
   ]
  },
  {
   "cell_type": "code",
   "execution_count": 13,
   "metadata": {},
   "outputs": [
    {
     "data": {
      "text/plain": [
       "mlx.core.float16"
      ]
     },
     "execution_count": 13,
     "metadata": {},
     "output_type": "execute_result"
    }
   ],
   "source": [
    "a = mx.array([1,2,3], dtype=mx.float16)\n",
    "a.dtype"
   ]
  },
  {
   "cell_type": "code",
   "execution_count": 4,
   "metadata": {},
   "outputs": [
    {
     "data": {
      "text/plain": [
       "array([1, 0.707031, 0.577148, 0], dtype=float16)"
      ]
     },
     "execution_count": 4,
     "metadata": {},
     "output_type": "execute_result"
    }
   ],
   "source": [
    "from mlx_graphs.nn.conv.gcn_conv import GCNConv\n",
    "import mlx.core as mx\n",
    "deg = mx.array([1, 2, 3, 0], dtype=mx.float16)\n",
    "\n",
    "GCNConv._inverted_sqrt_of_degree(deg)"
   ]
  },
  {
   "cell_type": "code",
   "execution_count": 13,
   "metadata": {},
   "outputs": [
    {
     "data": {
      "text/plain": [
       "(1e-06, 1.013279e-06)"
      ]
     },
     "execution_count": 13,
     "metadata": {},
     "output_type": "execute_result"
    }
   ],
   "source": [
    "import numpy as np\n",
    "\n",
    "# Convert 1e-6 to float16\n",
    "float16_value = np.float16(1e-6)\n",
    "\n",
    "# Convert back to float32\n",
    "float32_value = np.float32(float16_value)\n",
    "\n",
    "float16_value, float32_value"
   ]
  },
  {
   "cell_type": "code",
   "execution_count": 9,
   "metadata": {},
   "outputs": [
    {
     "name": "stdout",
     "output_type": "stream",
     "text": [
      "0\n",
      "1\n",
      "2\n",
      "3\n"
     ]
    }
   ],
   "source": [
    "for i in range(4):\n",
    "    print(i)"
   ]
  },
  {
   "cell_type": "code",
   "execution_count": 34,
   "metadata": {},
   "outputs": [],
   "source": [
    "from mlx_graphs.nn.conv.gcn_conv import GCNConv\n",
    "\n",
    "x = mx.array([1,2,3,0])\n",
    "out = GCNConv._sqrt_inverted_degree(x)\n",
    "expected = mx.array([1, 0.707107, 0.57735, 0])"
   ]
  },
  {
   "cell_type": "code",
   "execution_count": 35,
   "metadata": {},
   "outputs": [
    {
     "data": {
      "text/plain": [
       "array([true, false, false, true], dtype=bool)"
      ]
     },
     "execution_count": 35,
     "metadata": {},
     "output_type": "execute_result"
    }
   ],
   "source": [
    "expected == out"
   ]
  },
  {
   "cell_type": "code",
   "execution_count": 36,
   "metadata": {},
   "outputs": [
    {
     "data": {
      "text/plain": [
       "0.7071067094802856"
      ]
     },
     "execution_count": 36,
     "metadata": {},
     "output_type": "execute_result"
    }
   ],
   "source": []
  },
  {
   "cell_type": "code",
   "execution_count": 38,
   "metadata": {},
   "outputs": [
    {
     "data": {
      "text/plain": [
       "array([true, false, false, true], dtype=bool)"
      ]
     },
     "execution_count": 38,
     "metadata": {},
     "output_type": "execute_result"
    }
   ],
   "source": []
  },
  {
   "cell_type": "code",
   "execution_count": null,
   "metadata": {},
   "outputs": [],
   "source": []
  }
 ],
 "metadata": {
  "kernelspec": {
   "display_name": "mlx_graph_contribute",
   "language": "python",
   "name": "python3"
  },
  "language_info": {
   "codemirror_mode": {
    "name": "ipython",
    "version": 3
   },
   "file_extension": ".py",
   "mimetype": "text/x-python",
   "name": "python",
   "nbconvert_exporter": "python",
   "pygments_lexer": "ipython3",
   "version": "3.10.13"
  }
 },
 "nbformat": 4,
 "nbformat_minor": 2
}

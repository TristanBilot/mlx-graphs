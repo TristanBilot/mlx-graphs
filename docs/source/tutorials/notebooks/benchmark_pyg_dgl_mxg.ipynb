{
 "cells": [
  {
   "cell_type": "markdown",
   "metadata": {},
   "source": [
    "`pip install mlx mlx_graphs`\n",
    "\n",
    "`pip install torch torch_geometric torch_scatter dgl pandas`"
   ]
  },
  {
   "cell_type": "markdown",
   "metadata": {},
   "source": [
    "## mlx-graphs (MXG) code"
   ]
  },
  {
   "cell_type": "code",
   "execution_count": 2,
   "metadata": {},
   "outputs": [],
   "source": [
    "import mlx.core as mx\n",
    "import mlx.nn as mlx_nn\n",
    "import mlx.optimizers as mlx_optim\n",
    "\n",
    "import mlx_graphs.nn as mxg_nn\n",
    "import mlx_graphs.datasets as mxg_datasets\n",
    "import mlx_graphs.loaders as mxg_loaders"
   ]
  },
  {
   "cell_type": "code",
   "execution_count": 3,
   "metadata": {},
   "outputs": [],
   "source": [
    "class MXG_model(mlx_nn.Module):\n",
    "    def __init__(self, layer, in_dim, hidden_dim, out_dim, dropout=0.5):\n",
    "        super(MXG_model, self).__init__()\n",
    "\n",
    "        self.conv1 = layer(in_dim, hidden_dim)\n",
    "        self.conv2 = layer(hidden_dim, hidden_dim)\n",
    "        self.conv3 = layer(hidden_dim, hidden_dim)\n",
    "        self.linear = mxg_nn.Linear(hidden_dim, out_dim)\n",
    "\n",
    "        self.dropout = mlx_nn.Dropout(p=dropout)\n",
    "\n",
    "    def __call__(self, edge_index, node_features, batch_indices):\n",
    "        h = mlx_nn.relu(self.conv1(edge_index, node_features))\n",
    "        h = mlx_nn.relu(self.conv2(edge_index, h))\n",
    "        h = self.conv3(edge_index, h)\n",
    "        \n",
    "        h = mxg_nn.global_mean_pool(h, batch_indices)\n",
    "\n",
    "        h = self.dropout(h)\n",
    "        h = self.linear(h)\n",
    "        \n",
    "        return h"
   ]
  },
  {
   "cell_type": "code",
   "execution_count": 4,
   "metadata": {},
   "outputs": [],
   "source": [
    "def loss_fn(y_hat, y, parameters=None):\n",
    "    return mx.mean(mlx_nn.losses.cross_entropy(y_hat, y))\n",
    "\n",
    "def forward_fn(model, graph, labels):\n",
    "    y_hat = model(graph.edge_index, graph.node_features, graph.batch_indices)\n",
    "    loss = loss_fn(y_hat, labels, model.parameters())\n",
    "    return loss, y_hat\n",
    "\n",
    "def train_mxg(dataset, layer, batch_size, hid_size, epochs=2):\n",
    "    loader = mxg_loaders.Dataloader(dataset, batch_size=batch_size, shuffle=True)\n",
    "\n",
    "    model = MXG_model(\n",
    "        layer=layer,\n",
    "        in_dim=dataset.num_node_features,\n",
    "        hidden_dim=hid_size,\n",
    "        out_dim=dataset.num_graph_classes,\n",
    "    )\n",
    "    mx.eval(model.parameters())\n",
    "\n",
    "    optimizer = mlx_optim.Adam(learning_rate=0.01)\n",
    "    loss_and_grad_fn = mlx_nn.value_and_grad(model, forward_fn)\n",
    "\n",
    "    for _ in range(epochs):\n",
    "        for graph in loader:\n",
    "            (loss, y_hat), grads = loss_and_grad_fn(\n",
    "                model=model,\n",
    "                graph=graph,\n",
    "                labels=graph.graph_labels,\n",
    "            )\n",
    "            optimizer.update(model, grads)\n",
    "            mx.eval(model.parameters(), optimizer.state)"
   ]
  },
  {
   "cell_type": "markdown",
   "metadata": {},
   "source": [
    "## PyG code"
   ]
  },
  {
   "cell_type": "code",
   "execution_count": 5,
   "metadata": {},
   "outputs": [],
   "source": [
    "import torch\n",
    "import torch.optim\n",
    "import torch.nn as torch_nn\n",
    "import torch.nn.functional as F\n",
    "\n",
    "import torch_geometric.nn as pyg_nn\n",
    "import torch_geometric.datasets as pyg_datasets\n",
    "import torch_geometric.loader as pyg_loaders"
   ]
  },
  {
   "cell_type": "code",
   "execution_count": 6,
   "metadata": {},
   "outputs": [],
   "source": [
    "class PyG_model(torch.nn.Module):\n",
    "    def __init__(self, layer, in_dim, hidden_dim, out_dim):\n",
    "        super(PyG_model, self).__init__()\n",
    "        \n",
    "        self.conv1 = layer(in_dim, hidden_dim)\n",
    "        self.conv2 = layer(hidden_dim, hidden_dim)\n",
    "        self.conv3 = layer(hidden_dim, hidden_dim)\n",
    "        self.lin = torch_nn.Linear(hidden_dim, out_dim)\n",
    "\n",
    "    def forward(self, x, edge_index, batch):\n",
    "        x = self.conv1(x, edge_index)\n",
    "        x = x.relu()\n",
    "        x = self.conv2(x, edge_index)\n",
    "        x = x.relu()\n",
    "        x = self.conv3(x, edge_index)\n",
    "\n",
    "        x = pyg_nn.global_mean_pool(x, batch)\n",
    "\n",
    "        x = F.dropout(x, p=0.5, training=self.training)\n",
    "        x = self.lin(x)\n",
    "\n",
    "        return x"
   ]
  },
  {
   "cell_type": "code",
   "execution_count": 7,
   "metadata": {},
   "outputs": [],
   "source": [
    "def train_pyg(dataset, layer, batch_size, hid_size, epochs=2):\n",
    "    loader = pyg_loaders.DataLoader(dataset, batch_size=batch_size, shuffle=True)\n",
    "\n",
    "    model = PyG_model(\n",
    "        layer=layer,\n",
    "        in_dim=dataset.num_node_features,\n",
    "        hidden_dim=hid_size,\n",
    "        out_dim=dataset.num_classes,\n",
    "    )\n",
    "    optimizer = torch.optim.Adam(model.parameters(), lr=0.01)\n",
    "    criterion = torch_nn.CrossEntropyLoss()\n",
    "\n",
    "    model.train()\n",
    "    for _ in range(epochs):\n",
    "        for data in loader:\n",
    "            out = model(data.x, data.edge_index, data.batch)\n",
    "            loss = criterion(out, data.y)\n",
    "            loss.backward()\n",
    "            optimizer.step()\n",
    "            optimizer.zero_grad()"
   ]
  },
  {
   "cell_type": "markdown",
   "metadata": {},
   "source": [
    "## DGL code"
   ]
  },
  {
   "cell_type": "code",
   "execution_count": 8,
   "metadata": {},
   "outputs": [],
   "source": [
    "import dgl\n",
    "import dgl.nn.pytorch as dgl_nn\n",
    "import dgl.data as dgl_datasets\n",
    "import dgl.dataloading as dgl_loaders"
   ]
  },
  {
   "cell_type": "code",
   "execution_count": 22,
   "metadata": {},
   "outputs": [],
   "source": [
    "class DGL_model(torch_nn.Module):\n",
    "    def __init__(self, layer, in_dim, hidden_dim, out_dim):\n",
    "        super(DGL_model, self).__init__()\n",
    "\n",
    "        if \"GATConv\" in str(layer):\n",
    "            self.conv1 = layer(in_dim, hidden_dim, num_heads=1, allow_zero_in_degree=True)\n",
    "            self.conv2 = layer(hidden_dim, hidden_dim, num_heads=1, allow_zero_in_degree=True)\n",
    "            self.conv3 = layer(hidden_dim, hidden_dim, num_heads=1, allow_zero_in_degree=True)\n",
    "        else:\n",
    "            self.conv1 = layer(in_dim, hidden_dim, allow_zero_in_degree=True)\n",
    "            self.conv2 = layer(hidden_dim, hidden_dim, allow_zero_in_degree=True)\n",
    "            self.conv3 = layer(hidden_dim, hidden_dim, allow_zero_in_degree=True)\n",
    "\n",
    "        self.classify = torch_nn.Linear(hidden_dim, out_dim)\n",
    "\n",
    "    def forward(self, g, h):\n",
    "        h = F.relu(self.conv1(g, h))\n",
    "        h = F.relu(self.conv2(g, h))\n",
    "        h = F.relu(self.conv3(g, h))\n",
    "        with g.local_scope():\n",
    "            g.ndata['h'] = h\n",
    "            hg = dgl.mean_nodes(g, 'h')\n",
    "            return self.classify(hg.squeeze())"
   ]
  },
  {
   "cell_type": "code",
   "execution_count": 27,
   "metadata": {},
   "outputs": [],
   "source": [
    "def train_dgl(dataset, layer, batch_size, hid_size, epochs=2):\n",
    "    loader = dgl_loaders.GraphDataLoader(dataset, batch_size=batch_size, shuffle=True, drop_last=False)\n",
    "\n",
    "    model = DGL_model(\n",
    "        layer=layer,\n",
    "        in_dim=dataset[0][0].ndata[\"x\"].shape[1],\n",
    "        hidden_dim=hid_size,\n",
    "        out_dim=dataset.num_classes,\n",
    "    )\n",
    "    optimizer = torch.optim.Adam(model.parameters(), lr=0.01)\n",
    "    criterion = torch_nn.CrossEntropyLoss()\n",
    "\n",
    "    model.train()\n",
    "    for _ in range(epochs):\n",
    "        for data, labels in loader:\n",
    "            out = model(data, data.ndata['x'])\n",
    "            loss = criterion(out, labels.squeeze())\n",
    "            loss.backward()\n",
    "            optimizer.step()\n",
    "            optimizer.zero_grad()"
   ]
  },
  {
   "cell_type": "markdown",
   "metadata": {},
   "source": [
    "## Benchmark"
   ]
  },
  {
   "cell_type": "code",
   "execution_count": 28,
   "metadata": {},
   "outputs": [],
   "source": [
    "import timeit\n",
    "from itertools import product\n",
    "\n",
    "framework_to_train = {\n",
    "    \"mxg\": train_mxg,\n",
    "    \"pyg\": train_pyg,\n",
    "    \"dgl\": train_dgl,\n",
    "}\n",
    "def dgl_dataset(name):\n",
    "    pyg_dataset = pyg_datasets.TUDataset(f\".mlx_graphs_data/{name}\", name)\n",
    "    dgl_dataset = dgl_datasets.TUDataset(dataset_name)\n",
    "\n",
    "    for i, (pyg, dgl) in enumerate(zip(pyg_dataset, dgl_dataset.graph_lists)):\n",
    "        dgl_dataset.graph_lists[i].ndata[\"x\"] = pyg.x\n",
    "    \n",
    "    return dgl_dataset\n",
    "\n",
    "framework_to_datasets = {\n",
    "    \"mxg\": lambda name: mxg_datasets.TUDataset(name),\n",
    "    \"pyg\": lambda name: pyg_datasets.TUDataset(f\".mlx_graphs_data/{name}\", name),\n",
    "    \"dgl\": lambda name: dgl_dataset(name)\n",
    "}\n",
    "layer_classes = {\n",
    "    \"mxg\": {\n",
    "        \"GCNConv\": mxg_nn.GCNConv,\n",
    "        \"GATConv\": mxg_nn.GATConv,\n",
    "    },\n",
    "    \"pyg\": {\n",
    "        \"GCNConv\": pyg_nn.GCNConv,\n",
    "        \"GATConv\": pyg_nn.GATConv,\n",
    "    },\n",
    "    \"dgl\": {\n",
    "        \"GCNConv\": dgl_nn.GraphConv,\n",
    "        \"GATConv\": dgl_nn.GATConv,\n",
    "    }\n",
    "}\n",
    "\n",
    "frameworks = [\"dgl\", \"pyg\", \"mxg\"]\n",
    "datasets = [\"NCI-H23\", \"MUTAG\", \"DD\"]\n",
    "layers = [\"GCNConv\", \"GATConv\"]\n",
    "\n",
    "batch_size = 64\n",
    "hid_size = 128\n",
    "\n",
    "TIMEIT_REPEAT = 10\n",
    "TIMEIT_NUMBER = 1\n",
    "\n",
    "torch.manual_seed(42)\n",
    "mx.random.seed(42)"
   ]
  },
  {
   "cell_type": "code",
   "execution_count": 29,
   "metadata": {},
   "outputs": [
    {
     "name": "stdout",
     "output_type": "stream",
     "text": [
      "NCI-H23\n",
      "==========\n",
      "dgl | GCNConv | 12.985s\n",
      "dgl | GATConv | 22.035s\n",
      "\n",
      "pyg | GCNConv | 18.958s\n",
      "pyg | GATConv | 26.197s\n",
      "\n",
      "mxg | GCNConv | 12.262s\n",
      "mxg | GATConv | 15.871s\n",
      "\n"
     ]
    }
   ],
   "source": [
    "def benchmark(framework, dataset_name, layer, batch_size, hid_size):\n",
    "    train_fn = framework_to_train[framework]\n",
    "    train_fn(dataset, layer, batch_size, hid_size)\n",
    "\n",
    "for dataset_name in datasets:\n",
    "    print(dataset_name)\n",
    "    print(\"=\" * 10)\n",
    "\n",
    "    for framework in frameworks:\n",
    "        dataset = framework_to_datasets[framework](dataset_name)\n",
    "\n",
    "        for i, layer_name in enumerate(layers):\n",
    "            layer = layer_classes[framework][layer_name]\n",
    "\n",
    "            times = timeit.Timer(\n",
    "                lambda: benchmark(framework, dataset, layer, batch_size, hid_size)\n",
    "            ).repeat(repeat=TIMEIT_REPEAT, number=TIMEIT_NUMBER)\n",
    "\n",
    "            time = min(times) / TIMEIT_NUMBER\n",
    "\n",
    "            print(\n",
    "                \" | \".join(\n",
    "                    [\n",
    "                        f\"{framework}\",\n",
    "                        f\"{layer_name}\",\n",
    "                        f\"{time:.3f}s\",\n",
    "                    ]\n",
    "                )\n",
    "            )\n",
    "        print(\"\")\n",
    "        "
   ]
  },
  {
   "cell_type": "code",
   "execution_count": null,
   "metadata": {},
   "outputs": [],
   "source": []
  },
  {
   "cell_type": "code",
   "execution_count": null,
   "metadata": {},
   "outputs": [],
   "source": []
  }
 ],
 "metadata": {
  "kernelspec": {
   "display_name": "mlx_contribute",
   "language": "python",
   "name": "python3"
  },
  "language_info": {
   "codemirror_mode": {
    "name": "ipython",
    "version": 3
   },
   "file_extension": ".py",
   "mimetype": "text/x-python",
   "name": "python",
   "nbconvert_exporter": "python",
   "pygments_lexer": "ipython3",
   "version": "3.10.13"
  }
 },
 "nbformat": 4,
 "nbformat_minor": 2
}

{
 "cells": [
  {
   "cell_type": "markdown",
   "id": "bd2edc68-1d8a-4cdf-a683-2a92caa36b94",
   "metadata": {},
   "source": [
    "# Quantum-chemical property prediction with GNNs"
   ]
  },
  {
   "cell_type": "markdown",
   "id": "006dac5e-66bc-445f-bbf9-09187273022b",
   "metadata": {},
   "source": [
    "In this `mlx-graphs` tutorial we explore how to use and graph neural networks to predict quantum-chemical properties of small molecules. You may need to install `mlx`, `mlx-graphs`, `tqdm` and `matplotlib` to run it."
   ]
  },
  {
   "cell_type": "markdown",
   "id": "5cfc8360-e402-43f0-80f3-1ad2ca4f6b2b",
   "metadata": {},
   "source": [
    "## Loading the dataset\n",
    "We will be using the QM9 dataset as provided via `TUDataset`, which consists of about 130,000 small molecules consisting of 9 heavy atoms drawn from the elements C, H, O, N, F. Each molecule includes  spatial information for the single low energy conformation (i.e., 3D coordinates of the atoms, specified in the latest 3 columns in the `node_features` of the graph) in addition to 13 other features.  The dataset consists of 19 regression tasks, corresponding to different quantum-chemical properties of the molecules.\n",
    "\n",
    "Let's start by loading the dataset and looking at some of its properties"
   ]
  },
  {
   "cell_type": "code",
   "execution_count": 1,
   "id": "024dba40-1238-47bc-ac67-827e3b26e9e5",
   "metadata": {},
   "outputs": [
    {
     "name": "stdout",
     "output_type": "stream",
     "text": [
      "Downloading /Users/tgg/Github/mlx-graphs/docs/source/tutorials/examples/.mlx_graphs_data/QM9/raw/QM9.zip from https://www.chrsmrrs.com/graphkerneldatasets/QM9.zip...\n"
     ]
    },
    {
     "name": "stderr",
     "output_type": "stream",
     "text": [
      "100%|████████████████████████████████████████████████████████████████████████████████████████████████████████████████████████████████████████████████████████████████████████| 84.7M/84.7M [00:08<00:00, 10.4MB/s]\n"
     ]
    },
    {
     "name": "stdout",
     "output_type": "stream",
     "text": [
      "Extracting file to /Users/tgg/Github/mlx-graphs/docs/source/tutorials/examples/.mlx_graphs_data/QM9/raw\n"
     ]
    }
   ],
   "source": [
    "from mlx_graphs.datasets import TUDataset\n",
    "qm9 = TUDataset(name=\"QM9\")"
   ]
  },
  {
   "cell_type": "code",
   "execution_count": 2,
   "id": "fe906a6c-944d-4af1-a2a0-aace261952c8",
   "metadata": {},
   "outputs": [
    {
     "name": "stdout",
     "output_type": "stream",
     "text": [
      "Number of graphs: 129433\n",
      "Number of node features: 16\n",
      "Number of edge features: 4\n",
      "Number of regression tasks: 19\n"
     ]
    }
   ],
   "source": [
    "print(f\"Number of graphs: {len(qm9)}\")\n",
    "print(f\"Number of node features: {qm9.num_node_features}\")\n",
    "print(f\"Number of edge features: {qm9.num_edge_features}\")\n",
    "print(f\"Number of regression tasks: {qm9[0].graph_labels.shape[1]}\")"
   ]
  },
  {
   "cell_type": "markdown",
   "id": "a2ee4f4d-b655-436f-b447-cc16d5fa6e0b",
   "metadata": {},
   "source": [
    "We'll split the dataset into training and test sets and create dataloader for them"
   ]
  },
  {
   "cell_type": "code",
   "execution_count": 25,
   "id": "db5b760a-abb5-4e1c-a211-6121a62e7659",
   "metadata": {},
   "outputs": [],
   "source": [
    "from mlx_graphs.loaders import Dataloader\n",
    "\n",
    "# training and test splits\n",
    "num_training_samples = 110000\n",
    "\n",
    "training_dataset = qm9[:num_training_samples]\n",
    "test_dataset = qm9[num_training_samples:]\n",
    "\n",
    "# dataloaders\n",
    "batch_size = 128\n",
    "\n",
    "train_loader = Dataloader(training_dataset, batch_size=batch_size, shuffle=True)\n",
    "test_loader = Dataloader(test_dataset, batch_size=batch_size, shuffle=False)"
   ]
  },
  {
   "cell_type": "code",
   "execution_count": 26,
   "id": "4ebbfebb-8986-4d84-9d56-1df6b63c6d57",
   "metadata": {},
   "outputs": [
    {
     "data": {
      "text/plain": [
       "(19433, 110000)"
      ]
     },
     "execution_count": 26,
     "metadata": {},
     "output_type": "execute_result"
    }
   ],
   "source": [
    "len(test_dataset), len(training_dataset)"
   ]
  },
  {
   "cell_type": "code",
   "execution_count": null,
   "id": "0f9e30ab-343c-438a-81cc-21454da0bdaf",
   "metadata": {},
   "outputs": [],
   "source": []
  },
  {
   "cell_type": "markdown",
   "id": "7b07f223-b638-4ad3-bf6a-3492de46ed8a",
   "metadata": {},
   "source": [
    "## Graph Neural Network module\n",
    "To dive a bit deeper into the GNN logic and allow for more flexibility, we will implement node and edge processing blocks from scratch (as in https://arxiv.org/pdf/1806.01261.pdf) and then combine them through the `GraphNetworkBlock` provided by `mlx-graphs`."
   ]
  },
  {
   "cell_type": "markdown",
   "id": "22475828-f9f0-4141-beb1-6724b558f5d3",
   "metadata": {},
   "source": [
    "Let's start with the edge features update model. It will concatenate the `edge_features` with the `node_features` of the coreesponding source and target nodes, pass them through a simple MLP (just a linear layer followed by a ReLU) and output the updated `edge_features`."
   ]
  },
  {
   "cell_type": "code",
   "execution_count": 4,
   "id": "42a0ce14-6ecf-4440-a73d-567d2f274d2e",
   "metadata": {},
   "outputs": [],
   "source": [
    "import mlx.core as mx\n",
    "import mlx.nn as nn\n",
    "from mlx_graphs.nn import Linear\n",
    "from mlx_graphs.utils import scatter"
   ]
  },
  {
   "cell_type": "code",
   "execution_count": 15,
   "id": "744f92ce-c993-494b-b388-6bf5f65df7ca",
   "metadata": {},
   "outputs": [],
   "source": [
    "class EdgeModel(nn.Module):\n",
    "    def __init__(\n",
    "        self,\n",
    "        edge_features_dim: int,\n",
    "        node_features_dim: int,\n",
    "        output_dim: int,\n",
    "    ):\n",
    "        super().__init__()\n",
    "        self.linear = Linear(\n",
    "            input_dims=2 * node_features_dim + edge_features_dim, # source + target features + edge features\n",
    "            output_dims=output_dim,\n",
    "        )\n",
    "\n",
    "    def __call__(\n",
    "        self,\n",
    "        edge_index: mx.array,\n",
    "        node_features: mx.array,\n",
    "        edge_features: mx.array,\n",
    "        graph_features = None\n",
    "    ):\n",
    "        source_nodes = edge_index[0]\n",
    "        destination_nodes = edge_index[1]\n",
    "        model_input = mx.concatenate(\n",
    "            [\n",
    "                node_features[destination_nodes],\n",
    "                node_features[source_nodes],\n",
    "                edge_features,\n",
    "            ],\n",
    "            1,\n",
    "        )\n",
    "        new_edge_features = self.linear(model_input)\n",
    "        new_edge_features = nn.leaky_relu(new_edge_features)\n",
    "        return new_edge_features"
   ]
  },
  {
   "cell_type": "code",
   "execution_count": null,
   "id": "4684e869-a2b0-4a69-9075-b4a1e5494666",
   "metadata": {},
   "outputs": [],
   "source": []
  },
  {
   "cell_type": "markdown",
   "id": "7b432655-cb51-4a05-abd7-f68390c00e20",
   "metadata": {},
   "source": [
    "The node features update model will start by aggregating the `edge_features` corresponding to the edges incoming into each node, by computing their mean. Such aggregated edge features will be concatenated to the corresponding `node_features` and passed through an MLP to compute the updated node features."
   ]
  },
  {
   "cell_type": "code",
   "execution_count": 16,
   "id": "e3ddb4c7-4941-4363-9651-44a2e8bbb2bb",
   "metadata": {},
   "outputs": [],
   "source": [
    "class NodeModel(nn.Module):\n",
    "    def __init__(\n",
    "        self,\n",
    "        node_features_dim: int,\n",
    "        edge_features_dim: int,\n",
    "        output_dim: int,\n",
    "    ):\n",
    "        super().__init__()\n",
    "        self.linear = Linear(\n",
    "            input_dims=node_features_dim + edge_features_dim,\n",
    "            output_dims=output_dim,\n",
    "        )\n",
    "\n",
    "    def __call__(\n",
    "        self,\n",
    "        edge_index: mx.array,\n",
    "        node_features: mx.array,\n",
    "        edge_features: mx.array,\n",
    "        graph_features = None\n",
    "    ):\n",
    "        target_nodes = edge_index[1]\n",
    "        aggregated_edges = scatter(edge_features, target_nodes, out_size=node_features.shape[0], aggr=\"max\")\n",
    "        model_input = mx.concatenate([node_features, aggregated_edges], 1)\n",
    "        new_node_features = self.linear(model_input)\n",
    "        new_node_features = nn.leaky_relu(new_node_features)\n",
    "        return new_node_features"
   ]
  },
  {
   "cell_type": "markdown",
   "id": "69de0dab-32be-4cc5-8cc5-c7db0eec3028",
   "metadata": {},
   "source": [
    "Now, the edge and node models we defined can be combined to create a basic graph neural network to sequentially update/transform edges and node features of the input graph. \n",
    "\n",
    "To do that we can use the `GraphNetworkBlock`. In the model below we create two graph network blocks that we apply sequentially, we then pool the node features and pass them through a linear transformation to compute the predicted output. We use an output dimension of 1 for the entire model as we'll use it to learn a single regression task."
   ]
  },
  {
   "cell_type": "code",
   "execution_count": 17,
   "id": "ebd86183-8bb3-447c-9a2a-c9836d509c86",
   "metadata": {},
   "outputs": [],
   "source": [
    "from mlx_graphs.nn import global_mean_pool, GraphNetworkBlock\n",
    "\n",
    "\n",
    "class Model(nn.Module):\n",
    "    def __init__(self):\n",
    "        super().__init__()\n",
    "        self.gnn1 = GraphNetworkBlock(\n",
    "            node_model=NodeModel(qm9.num_node_features, 64, 64), \n",
    "            edge_model=EdgeModel(qm9.num_edge_features, qm9.num_node_features, 64),\n",
    "        )\n",
    "        self.gnn2 = GraphNetworkBlock(\n",
    "            node_model=NodeModel(64, 64, 64), \n",
    "            edge_model=EdgeModel(64, 64, 64),\n",
    "        )\n",
    "        self.output_linear = Linear(input_dims=64, output_dims=1)\n",
    "        \n",
    "    def __call__(\n",
    "        self,\n",
    "        edge_index: mx.array,\n",
    "        node_features: mx.array,\n",
    "        edge_features: mx.array,\n",
    "        batch_indices: mx.array,\n",
    "    ):\n",
    "        \n",
    "        node_features, edge_features, _ = self.gnn1(\n",
    "            edge_index=data.edge_index,\n",
    "            node_features=data.node_features,\n",
    "            edge_features=data.edge_features,\n",
    "        )\n",
    "        node_features, _, _ = self.gnn2(\n",
    "            edge_index=data.edge_index,\n",
    "            node_features=node_features,\n",
    "            edge_features=edge_features,\n",
    "        )\n",
    "        out = global_mean_pool(node_features, batch_indices)\n",
    "        return self.output_linear(out)\n",
    "        "
   ]
  },
  {
   "cell_type": "markdown",
   "id": "3bbc386b-2734-47bc-94eb-f91fe6aa05db",
   "metadata": {},
   "source": [
    "## Model training\n",
    "Now that we have our model we can simply define our loss function (MSE) and the forward function we're going to use to train our model along with an optimizer (we'll use AdamW in this example)."
   ]
  },
  {
   "cell_type": "code",
   "execution_count": 18,
   "id": "00e97ca1-8536-4a66-bb1d-9bd73c8defbd",
   "metadata": {},
   "outputs": [],
   "source": [
    "import mlx.optimizers as optim\n",
    "\n",
    "model = Model()\n",
    "\n",
    "mx.eval(model.parameters())\n",
    "\n",
    "def loss_fn(y_hat, y, parameters=None):\n",
    "    return nn.losses.mse_loss(y_hat, y, \"sum\")\n",
    "\n",
    "def forward_fn(model, graph, labels):\n",
    "    y_hat = model(graph.edge_index, graph.node_features, graph.edge_features, graph.batch_indices)\n",
    "    loss = loss_fn(y_hat, labels, model.parameters())\n",
    "    return loss, y_hat\n",
    "\n",
    "loss_and_grad_fn = nn.value_and_grad(model, forward_fn)\n",
    "optimizer = optim.AdamW(learning_rate=1e-3)"
   ]
  },
  {
   "cell_type": "markdown",
   "id": "ee4ea8c5-ea7c-46d3-9877-458d8154861e",
   "metadata": {},
   "source": [
    "We're now ready to train our GNN model. Let's select the \"Lowest unoccupied molecular orbital energy\" as the target regression task."
   ]
  },
  {
   "cell_type": "code",
   "execution_count": 21,
   "id": "4730995b-8999-4a99-9eed-d1a5b3529364",
   "metadata": {},
   "outputs": [
    {
     "name": "stderr",
     "output_type": "stream",
     "text": [
      "Epoch 1: 100%|█████████████████████████████████████████████████████████████████████████████████████████████████████████████████████████████| 860/860 [00:06<00:00, 139.78batch/s, test_loss=0, training_loss=0.78]\n",
      "Epoch 2: 100%|████████████████████████████████████████████████████████████████████████████████████████████████████████████████████████████| 860/860 [00:05<00:00, 146.65batch/s, test_loss=0, training_loss=0.349]\n",
      "Epoch 3: 100%|████████████████████████████████████████████████████████████████████████████████████████████████████████████████████████████| 860/860 [00:05<00:00, 144.28batch/s, test_loss=0, training_loss=0.278]\n",
      "Epoch 4: 100%|████████████████████████████████████████████████████████████████████████████████████████████████████████████████████████████| 860/860 [00:05<00:00, 144.21batch/s, test_loss=0, training_loss=0.235]\n",
      "Epoch 5: 100%|████████████████████████████████████████████████████████████████████████████████████████████████████████████████████████████| 860/860 [00:05<00:00, 143.40batch/s, test_loss=0, training_loss=0.207]\n",
      "Epoch 6: 100%|████████████████████████████████████████████████████████████████████████████████████████████████████████████████████████████| 860/860 [00:06<00:00, 142.75batch/s, test_loss=0, training_loss=0.184]\n",
      "Epoch 7: 100%|█████████████████████████████████████████████████████████████████████████████████████████████████████████████████████████████| 860/860 [00:06<00:00, 142.08batch/s, test_loss=0, training_loss=0.17]\n",
      "Epoch 8: 100%|████████████████████████████████████████████████████████████████████████████████████████████████████████████████████████████| 860/860 [00:06<00:00, 141.05batch/s, test_loss=0, training_loss=0.161]\n",
      "Epoch 9: 100%|████████████████████████████████████████████████████████████████████████████████████████████████████████████████████████████| 860/860 [00:06<00:00, 140.76batch/s, test_loss=0, training_loss=0.152]\n",
      "Epoch 10: 100%|████████████████████████████████████████████████████████████████████████████████████████████████████████████████████████████| 860/860 [00:06<00:00, 140.72batch/s, test_loss=0, training_loss=0.15]\n",
      "Epoch 11: 100%|███████████████████████████████████████████████████████████████████████████████████████████████████████████████████████████| 860/860 [00:06<00:00, 140.32batch/s, test_loss=0, training_loss=0.142]\n",
      "Epoch 12: 100%|███████████████████████████████████████████████████████████████████████████████████████████████████████████████████████████| 860/860 [00:06<00:00, 139.58batch/s, test_loss=0, training_loss=0.139]\n",
      "Epoch 13: 100%|███████████████████████████████████████████████████████████████████████████████████████████████████████████████████████████| 860/860 [00:06<00:00, 140.04batch/s, test_loss=0, training_loss=0.134]\n",
      "Epoch 14: 100%|███████████████████████████████████████████████████████████████████████████████████████████████████████████████████████████| 860/860 [00:06<00:00, 138.66batch/s, test_loss=0, training_loss=0.132]\n",
      "Epoch 15: 100%|███████████████████████████████████████████████████████████████████████████████████████████████████████████████████████████| 860/860 [00:06<00:00, 138.93batch/s, test_loss=0, training_loss=0.128]\n",
      "Epoch 16: 100%|███████████████████████████████████████████████████████████████████████████████████████████████████████████████████████████| 860/860 [00:06<00:00, 138.41batch/s, test_loss=0, training_loss=0.124]\n",
      "Epoch 17: 100%|███████████████████████████████████████████████████████████████████████████████████████████████████████████████████████████| 860/860 [00:06<00:00, 138.96batch/s, test_loss=0, training_loss=0.121]\n",
      "Epoch 18: 100%|████████████████████████████████████████████████████████████████████████████████████████████████████████████████████████████| 860/860 [00:06<00:00, 138.07batch/s, test_loss=0, training_loss=0.12]\n",
      "Epoch 19: 100%|███████████████████████████████████████████████████████████████████████████████████████████████████████████████████████████| 860/860 [00:06<00:00, 137.80batch/s, test_loss=0, training_loss=0.116]\n",
      "Epoch 20: 100%|███████████████████████████████████████████████████████████████████████████████████████████████████████████████████████████| 860/860 [00:06<00:00, 136.94batch/s, test_loss=0, training_loss=0.115]\n",
      "                                                                                                                                                                                                                  \r"
     ]
    }
   ],
   "source": [
    "from tqdm import tqdm\n",
    "\n",
    "mx.set_default_device(mx.gpu)\n",
    "regression_task = 4\n",
    "    \n",
    "len_training_loader = int(len(training_dataset)/batch_size + 1)\n",
    "len_test_loader = int(len(test_dataset)/batch_size + 1)\n",
    "epochs = 20\n",
    "\n",
    "epoch_training_losses = []\n",
    "epoch_test_losses = []\n",
    "for epoch in range(epochs):\n",
    "    # training loop\n",
    "    with tqdm(train_loader, total=len_training_loader, unit=\"batch\") as tepoch:\n",
    "        tepoch.set_description(f\"Epoch {epoch + 1}\")\n",
    "        training_loss = 0.0\n",
    "        for idx, data in enumerate(tepoch):\n",
    "            (loss, y_hat), grads = loss_and_grad_fn(\n",
    "                model=model,\n",
    "                graph=data,\n",
    "                labels=mx.expand_dims(data.graph_labels[:, regression_task], 1),\n",
    "            )\n",
    "            optimizer.update(model, grads)\n",
    "            mx.eval(model.parameters(), optimizer.state)\n",
    "            training_loss += loss.item()/data.num_graphs\n",
    "            tepoch.set_postfix(training_loss=training_loss / (idx+1), test_loss=0)\n",
    "        epoch_training_losses.append(training_loss/(idx+1))\n",
    "\n",
    "    # testing loop\n",
    "    with tqdm(test_loader, total=len_test_loader, unit=\"batch\", leave=False) as test_epoch:\n",
    "        test_epoch.set_description(f\"Testing\")\n",
    "        test_loss = 0.0\n",
    "        for idx, data in enumerate(test_epoch):\n",
    "            y_hat = model(data.edge_index, data.node_features, data.edge_features, data.batch_indices)\n",
    "            loss = loss_fn(y_hat, mx.expand_dims(data.graph_labels[:, regression_task], 1))\n",
    "            test_loss += loss.item()/data.num_graphs\n",
    "            test_epoch.set_postfix(test_loss=test_loss / (idx+1))\n",
    "        epoch_test_losses.append(test_loss/(idx+1))"
   ]
  },
  {
   "cell_type": "markdown",
   "id": "0d9f72e1-b48e-42b6-afc3-c890917bcf49",
   "metadata": {},
   "source": [
    "!mamba install matplotlib -y"
   ]
  },
  {
   "cell_type": "markdown",
   "id": "983214b2-297d-4b99-8e92-288a94fa3f4e",
   "metadata": {},
   "source": [
    "Now that the training is concluded we can visualize the evolution of the training and test losses."
   ]
  },
  {
   "cell_type": "code",
   "execution_count": 13,
   "id": "9d9cf911-6d4b-4cc1-84e5-8a744129b554",
   "metadata": {},
   "outputs": [],
   "source": [
    "import matplotlib.pyplot as plt"
   ]
  },
  {
   "cell_type": "code",
   "execution_count": 22,
   "id": "e60a60d6-70a2-4f27-a062-99cc1c2746d1",
   "metadata": {},
   "outputs": [
    {
     "data": {
      "image/png": "[encoded data removed]",
      "text/plain": [
       "<Figure size 640x480 with 1 Axes>"
      ]
     },
     "metadata": {},
     "output_type": "display_data"
    }
   ],
   "source": [
    "plt.figure()\n",
    "plt.plot(range(epochs), epoch_training_losses, label=\"Training\")\n",
    "plt.plot(range(epochs), epoch_test_losses, label=\"Test\")\n",
    "plt.plot(range(epochs), v1, label=\"previous method relu average pooling\")\n",
    "\n",
    "plt.title(\"Loss\")\n",
    "plt.legend()\n",
    "plt.show()"
   ]
  },
  {
   "cell_type": "markdown",
   "id": "5644a410-1e87-444d-acbe-789024f37b60",
   "metadata": {},
   "source": [
    "## Notes and next steps\n",
    "While this is an illustrative tutorial, we hope it gives some insights into `mlx-graphs`. Next steps could involve implementing more complex and specialized models (e.g., exploiting invariances and equivariances in the geometries of the molecules) or normalizing features and target properties, which can highly improve performance as well."
   ]
  },
  {
   "cell_type": "code",
   "execution_count": 20,
   "id": "a2a3be01-ba87-41db-bc92-9e7adc95a429",
   "metadata": {},
   "outputs": [],
   "source": [
    "v1  = epoch_test_losses"
   ]
  },
  {
   "cell_type": "code",
   "execution_count": null,
   "id": "a6010f27-f446-4ddb-92a6-30163620b9c4",
   "metadata": {},
   "outputs": [],
   "source": []
  }
 ],
 "metadata": {
  "kernelspec": {
   "display_name": "Python 3 (ipykernel)",
   "language": "python",
   "name": "python3"
  },
  "language_info": {
   "codemirror_mode": {
    "name": "ipython",
    "version": 3
   },
   "file_extension": ".py",
   "mimetype": "text/x-python",
   "name": "python",
   "nbconvert_exporter": "python",
   "pygments_lexer": "ipython3",
   "version": "3.11.0"
  }
 },
 "nbformat": 4,
 "nbformat_minor": 5
}
